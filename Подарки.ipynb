{
 "cells": [
  {
   "cell_type": "code",
   "execution_count": 1,
   "metadata": {},
   "outputs": [],
   "source": [
    "import pandas as pd\n",
    "import numpy as np\n",
    "\n",
    "crm = pd.read_excel(r'C:\\Users\\Mironov1-AM\\PycharmProjects\\Офис\\Gifts\\CRM_cut.xlsx')\n",
    "tmc = pd.read_excel(r'C:\\Users\\Mironov1-AM\\PycharmProjects\\Офис\\Gifts\\TMC.xlsx')\n",
    "\n",
    "crm['GIFT_NAME1'] = crm['GIFT_NAME1'].str.lower()\n",
    "crm['GIFT_NAME1'] = crm['GIFT_NAME1'].str.strip()\n",
    "\n",
    "tmc['find_text'] = tmc['find_text'].str.lower()\n",
    "tmc['find_text'] = tmc['find_text'].str.strip()\n",
    "tmc['exclude_text'] = tmc['exclude_text'].str.lower()\n",
    "tmc['exclude_text'] = tmc['exclude_text'].str.strip()\n",
    "\n",
    "stop_words = [',', '.']\n",
    "\n",
    "for word in stop_words:\n",
    "    crm['GIFT_NAME1'] = crm['GIFT_NAME1'].str.replace(word, '', regex=False)\n",
    "    tmc['find_text'] = tmc['find_text'].str.replace(word, '',  regex=False)\n"
   ]
  },
  {
   "cell_type": "code",
   "execution_count": 2,
   "metadata": {},
   "outputs": [
    {
     "data": {
      "text/plain": [
       "[' Блокнот Шоколад Ручка']"
      ]
     },
     "execution_count": 2,
     "metadata": {},
     "output_type": "execute_result"
    }
   ],
   "source": [
    "def func_find_tmc(x: dict):\n",
    "    id_tmc = -1\n",
    "\n",
    "    if type(x['GIFT_SUM1']) == str or pd.isnull(x['GIFT_SUM1']) or pd.isnull(x['GIFT_NAME1']):\n",
    "        return id_tmc\n",
    "\n",
    "    crm_text = x['GIFT_NAME1']\n",
    "    crm_price = x['GIFT_SUM1']\n",
    "\n",
    "    tmp = pd.DataFrame(columns=[['price', 'short_name']])   #### Исправлено\n",
    "    tmp = [{'price': 1, 'short_name': \"f\"}] ####!!!!!!!!!!колхоз\n",
    "    tmp = pd.DataFrame(tmp) ####!!!!!!!!!!колхоз\n",
    "    tmp = tmp.drop(index=[0])  ####!!!!!!!!!!колхоз\n",
    "\n",
    "    for i in range(tmc.shape[0]):\n",
    "        is_find = True\n",
    "        find_text = tmc.loc[i, 'find_text'].split()\n",
    "        for text in find_text:\n",
    "            if text not in crm_text:\n",
    "                is_find = False\n",
    "                break\n",
    "        if not pd.isnull(tmc.loc[i, 'exclude_text']):\n",
    "            exclude_text = tmc.loc[i, 'exclude_text'].split()\n",
    "            for text in exclude_text:\n",
    "                if text in crm_text:\n",
    "                    is_find = False\n",
    "                    break\n",
    "\n",
    "        if not is_find:\n",
    "            continue\n",
    "\n",
    "        tmp = tmp.append(tmc.loc[i, ['price', 'short_name']], ignore_index=True)\n",
    "    tmp['ones'] = 1\n",
    "    tmp = tmp.reset_index()\n",
    "\n",
    "    merge_tmc = list(tmp['short_name'].unique())\n",
    "    merged_df = tmp[tmp['short_name'] == merge_tmc[0]].reset_index()\n",
    "\n",
    "    for j, word in enumerate(merge_tmc[1:]):\n",
    "        merged_df = merged_df.merge(\n",
    "            tmp[tmp['short_name'] == word],\n",
    "            on='ones',\n",
    "            how='outer',\n",
    "            suffixes=['_' + str(j), '_' + str(j + 1)]\n",
    "        )\n",
    "\n",
    "    merged_df['total_cost'] = 0\n",
    "    merged_df['all_tmc'] = ''\n",
    "    for column in merged_df.columns:\n",
    "        if 'price' in column:\n",
    "            merged_df['total_cost'] += merged_df[column]\n",
    "        if 'short_name' in column:\n",
    "            merged_df['all_tmc'] += ' ' + merged_df[column]\n",
    "\n",
    "    merged_df['different_price'] = abs(merged_df['total_cost'] - crm_price)\n",
    "    result = merged_df.sort_values('different_price').reset_index(drop=True)\n",
    "\n",
    "    if len(result) > 0:\n",
    "        result = result.loc[0, ['all_tmc']]\n",
    "    else:\n",
    "        return result\n",
    "    result = list(result)\n",
    "    \n",
    "    return result   #### (100, 'блокнот шоколад ручка')  То что должно выходить\n",
    "fun = func_find_tmc({'GIFT_SUM1': 500, 'GIFT_NAME1': 'блокнот шоколад ручка'})\n",
    "fun"
   ]
  },
  {
   "cell_type": "code",
   "execution_count": 3,
   "metadata": {
    "scrolled": true
   },
   "outputs": [],
   "source": [
    "\n",
    "# fun.to_excel('resultTEST.xlsx', index=False)\n",
    "# crm['all_tmc'] = crm.apply(func_find_tmc, axis=1)"
   ]
  },
  {
   "cell_type": "code",
   "execution_count": 4,
   "metadata": {},
   "outputs": [
    {
     "data": {
      "text/plain": [
       "list"
      ]
     },
     "execution_count": 4,
     "metadata": {},
     "output_type": "execute_result"
    }
   ],
   "source": [
    "type(fun)"
   ]
  },
  {
   "cell_type": "code",
   "execution_count": 5,
   "metadata": {
    "scrolled": true
   },
   "outputs": [
    {
     "data": {
      "text/html": [
       "<div>\n",
       "<style scoped>\n",
       "    .dataframe tbody tr th:only-of-type {\n",
       "        vertical-align: middle;\n",
       "    }\n",
       "\n",
       "    .dataframe tbody tr th {\n",
       "        vertical-align: top;\n",
       "    }\n",
       "\n",
       "    .dataframe thead th {\n",
       "        text-align: right;\n",
       "    }\n",
       "</style>\n",
       "<table border=\"1\" class=\"dataframe\">\n",
       "  <thead>\n",
       "    <tr style=\"text-align: right;\">\n",
       "      <th></th>\n",
       "      <th>index</th>\n",
       "      <th>price</th>\n",
       "      <th>short_name</th>\n",
       "      <th>ones</th>\n",
       "    </tr>\n",
       "  </thead>\n",
       "  <tbody>\n",
       "    <tr>\n",
       "      <td>0</td>\n",
       "      <td>0</td>\n",
       "      <td>546.0</td>\n",
       "      <td>Блокнот</td>\n",
       "      <td>1</td>\n",
       "    </tr>\n",
       "    <tr>\n",
       "      <td>1</td>\n",
       "      <td>1</td>\n",
       "      <td>112.8</td>\n",
       "      <td>Бандана</td>\n",
       "      <td>1</td>\n",
       "    </tr>\n",
       "  </tbody>\n",
       "</table>\n",
       "</div>"
      ],
      "text/plain": [
       "   index  price short_name  ones\n",
       "0      0  546.0    Блокнот     1\n",
       "1      1  112.8    Бандана     1"
      ]
     },
     "execution_count": 5,
     "metadata": {},
     "output_type": "execute_result"
    }
   ],
   "source": [
    "tmp = pd.DataFrame(columns=[['price', 'short_name']])\n",
    "tmp = [{'price': 1, 'short_name': \"f\"}]\n",
    "tmp = pd.DataFrame(tmp) \n",
    "tmp = tmp.drop(index=[0])   \n",
    "tmp = tmp.append(tmc.loc[7, ['price', 'short_name']], ignore_index=True)\n",
    "tmp = tmp.append(tmc.loc[3, ['price', 'short_name']], ignore_index=True) #добавлена для пробы, в код не вносить!\n",
    "tmp['ones'] = 1\n",
    "tmp = tmp.reset_index()\n",
    "tmp"
   ]
  },
  {
   "cell_type": "code",
   "execution_count": 6,
   "metadata": {},
   "outputs": [
    {
     "data": {
      "text/html": [
       "<div>\n",
       "<style scoped>\n",
       "    .dataframe tbody tr th:only-of-type {\n",
       "        vertical-align: middle;\n",
       "    }\n",
       "\n",
       "    .dataframe tbody tr th {\n",
       "        vertical-align: top;\n",
       "    }\n",
       "\n",
       "    .dataframe thead th {\n",
       "        text-align: right;\n",
       "    }\n",
       "</style>\n",
       "<table border=\"1\" class=\"dataframe\">\n",
       "  <thead>\n",
       "    <tr style=\"text-align: right;\">\n",
       "      <th></th>\n",
       "      <th>index</th>\n",
       "      <th>price</th>\n",
       "      <th>short_name</th>\n",
       "      <th>ones</th>\n",
       "      <th>total_price</th>\n",
       "      <th>all_tmc</th>\n",
       "    </tr>\n",
       "  </thead>\n",
       "  <tbody>\n",
       "  </tbody>\n",
       "</table>\n",
       "</div>"
      ],
      "text/plain": [
       "Empty DataFrame\n",
       "Columns: [index, price, short_name, ones, total_price, all_tmc]\n",
       "Index: []"
      ]
     },
     "execution_count": 6,
     "metadata": {},
     "output_type": "execute_result"
    }
   ],
   "source": [
    "merged_df = pd.DataFrame(columns=tmp.columns)\n",
    "\n",
    "merged_df = [{'index': 0, 'price': \"8\", 'short_name': \"f\", 'ones': \"1\", 'total_price': \"12\", 'all_tmc': \"sd\"}] \n",
    "merged_df = pd.DataFrame(merged_df) \n",
    "merged_df = merged_df.drop(index=[0])\n",
    "merged_df"
   ]
  },
  {
   "cell_type": "code",
   "execution_count": 7,
   "metadata": {
    "scrolled": true
   },
   "outputs": [
    {
     "data": {
      "text/html": [
       "<div>\n",
       "<style scoped>\n",
       "    .dataframe tbody tr th:only-of-type {\n",
       "        vertical-align: middle;\n",
       "    }\n",
       "\n",
       "    .dataframe tbody tr th {\n",
       "        vertical-align: top;\n",
       "    }\n",
       "\n",
       "    .dataframe thead th {\n",
       "        text-align: right;\n",
       "    }\n",
       "</style>\n",
       "<table border=\"1\" class=\"dataframe\">\n",
       "  <thead>\n",
       "    <tr style=\"text-align: right;\">\n",
       "      <th></th>\n",
       "      <th>index_0</th>\n",
       "      <th>price_0</th>\n",
       "      <th>short_name_0</th>\n",
       "      <th>total_price</th>\n",
       "      <th>all_tmc</th>\n",
       "      <th>index_1</th>\n",
       "      <th>price_1</th>\n",
       "      <th>short_name_1</th>\n",
       "      <th>ones</th>\n",
       "      <th>index</th>\n",
       "      <th>price</th>\n",
       "      <th>short_name</th>\n",
       "    </tr>\n",
       "  </thead>\n",
       "  <tbody>\n",
       "    <tr>\n",
       "      <td>0</td>\n",
       "      <td>NaN</td>\n",
       "      <td>NaN</td>\n",
       "      <td>NaN</td>\n",
       "      <td>NaN</td>\n",
       "      <td>NaN</td>\n",
       "      <td>0</td>\n",
       "      <td>546.0</td>\n",
       "      <td>Блокнот</td>\n",
       "      <td>1</td>\n",
       "      <td>1</td>\n",
       "      <td>112.8</td>\n",
       "      <td>Бандана</td>\n",
       "    </tr>\n",
       "  </tbody>\n",
       "</table>\n",
       "</div>"
      ],
      "text/plain": [
       "   index_0 price_0 short_name_0 total_price all_tmc  index_1  price_1  \\\n",
       "0      NaN     NaN          NaN         NaN     NaN        0    546.0   \n",
       "\n",
       "  short_name_1  ones  index  price short_name  \n",
       "0      Блокнот     1      1  112.8    Бандана  "
      ]
     },
     "execution_count": 7,
     "metadata": {},
     "output_type": "execute_result"
    }
   ],
   "source": [
    "for j, word in enumerate(tmp['short_name'].unique()):\n",
    "        merged_df = merged_df.merge(\n",
    "            tmp[tmp['short_name'] == word],\n",
    "            on='ones',\n",
    "            how='outer',\n",
    "            suffixes=['_' + str(j), '_' + str(j + 1)]\n",
    "        )\n",
    "merged_df"
   ]
  },
  {
   "cell_type": "code",
   "execution_count": 8,
   "metadata": {},
   "outputs": [
    {
     "name": "stdout",
     "output_type": "stream",
     "text": [
      "   index_0 price_0 short_name_0 total_price all_tmc  index_1  price_1  \\\n",
      "0      NaN     NaN          NaN         NaN     NaN        0    546.0   \n",
      "\n",
      "  short_name_1  ones  index  price short_name  \n",
      "0      Блокнот     1      1  112.8    Бандана  \n",
      "   index_0 price_0 short_name_0 total_price all_tmc  index_1  price_1  \\\n",
      "0      NaN     NaN          NaN         NaN     NaN        0    546.0   \n",
      "\n",
      "  short_name_1  ones  index  price short_name  \n",
      "0      Блокнот     1      1  112.8    Бандана  \n",
      "   index_0 price_0 short_name_0 total_price all_tmc  index_1  price_1  \\\n",
      "0      NaN     NaN          NaN         NaN     NaN        0    546.0   \n",
      "\n",
      "  short_name_1  ones  index  price short_name  \n",
      "0      Блокнот     1      1  112.8    Бандана  \n"
     ]
    }
   ],
   "source": [
    "merged_df['total_price'] = 0\n",
    "merged_df['all_tmc'] = ''\n",
    "for column in merged_df.columns:\n",
    "    if 'price' in column:\n",
    "        merged_df['total_price'] += merged_df[column]\n",
    "    if 'short_name' in column:\n",
    "        merged_df['all_tmc'] += ' ' + merged_df[column]\n",
    "        print(merged_df)"
   ]
  },
  {
   "cell_type": "code",
   "execution_count": 9,
   "metadata": {
    "scrolled": true
   },
   "outputs": [],
   "source": [
    "# result = result['all_tms'][1:]"
   ]
  },
  {
   "cell_type": "code",
   "execution_count": 14,
   "metadata": {
    "scrolled": true
   },
   "outputs": [
    {
     "data": {
      "text/plain": [
       "'локнот'"
      ]
     },
     "execution_count": 14,
     "metadata": {},
     "output_type": "execute_result"
    }
   ],
   "source": [
    "a = merged_df['short_name_1'][0]\n",
    "a[1:]"
   ]
  },
  {
   "cell_type": "code",
   "execution_count": null,
   "metadata": {},
   "outputs": [],
   "source": [
    "    for i in range(tmc.shape[0]):\n",
    "        is_find = True\n",
    "        find_text = tmc.loc[i, 'find_text'].split()\n",
    "        for text in find_text:\n",
    "            if text not in y:\n",
    "                if not is_levenshtein:\n",
    "                    is_find = False\n",
    "                    break\n",
    "                for crm_word in crm_words:\n",
    "                    leven = levenshtein(crm_word, text)\n",
    "                    if leven <= 1:\n",
    "                        is_find = True\n",
    "                        break\n",
    "                    else:\n",
    "                        is_find = False\n",
    "        if not pd.isnull(tmc.loc[i, 'exclude_text']):\n",
    "            exclude_text = tmc.loc[i, 'exclude_text'].split()\n",
    "            for text in exclude_text:\n",
    "                if text in y:\n",
    "                    is_find = False\n",
    "                    break\n",
    "\n",
    "        if not is_find:\n",
    "            continue"
   ]
  }
 ],
 "metadata": {
  "kernelspec": {
   "display_name": "Python 3",
   "language": "python",
   "name": "python3"
  },
  "language_info": {
   "codemirror_mode": {
    "name": "ipython",
    "version": 3
   },
   "file_extension": ".py",
   "mimetype": "text/x-python",
   "name": "python",
   "nbconvert_exporter": "python",
   "pygments_lexer": "ipython3",
   "version": "3.7.4"
  }
 },
 "nbformat": 4,
 "nbformat_minor": 4
}
